{
 "cells": [
  {
   "cell_type": "markdown",
   "id": "ddee4643",
   "metadata": {},
   "source": [
    "# Initialize"
   ]
  },
  {
   "cell_type": "code",
   "execution_count": 1,
   "id": "b8f35624-6cd0-4ffb-afb7-b735aa31b360",
   "metadata": {},
   "outputs": [],
   "source": [
    "# Imports\n",
    "\n",
    "import warnings\n",
    "warnings.filterwarnings('ignore')\n",
    "\n",
    "import os\n",
    "\n",
    "import numpy as np\n",
    "import pandas as pd\n",
    "\n",
    "import matplotlib.pyplot as plt\n",
    "%matplotlib inline\n",
    "import seaborn as sns\n",
    "\n",
    "import rasterio\n",
    "from rasterio.warp import calculate_default_transform, reproject, Resampling"
   ]
  },
  {
   "cell_type": "code",
   "execution_count": 2,
   "id": "9116993e-b217-4fd0-a06f-4251392473d7",
   "metadata": {},
   "outputs": [
    {
     "name": "stdout",
     "output_type": "stream",
     "text": [
      "Current Working Directory: D:\\Akshaya\\LULC_dataset\n",
      "Updated Current Working Directory: D:\\Akshaya\n",
      "Raw DATA Directory: D:\\Akshaya\\DATA\n",
      "Output Directory: D:\\Akshaya\\LULC_dataset\\jupyterNB_outputs\n"
     ]
    }
   ],
   "source": [
    "# Get and print the current working directory\n",
    "current_dir = os.getcwd()\n",
    "print('Current Working Directory:', current_dir)\n",
    "\n",
    "# Update and print current working directory\n",
    "temp_dirpath = os.path.join('D:\\\\', 'Akshaya')\n",
    "os.chdir(temp_dirpath)\n",
    "updated_current_dir = os.getcwd()\n",
    "print(\"Updated Current Working Directory:\", updated_current_dir)\n",
    "\n",
    "# Set and print the raw DATA directory\n",
    "rawDATA_dir = os.path.join(updated_current_dir, 'DATA')\n",
    "print('Raw DATA Directory:', rawDATA_dir)\n",
    "\n",
    "# Set and print the Output directory\n",
    "output_dir = os.path.join(updated_current_dir, 'LULC_dataset', 'jupyterNB_outputs')\n",
    "print('Output Directory:', output_dir)"
   ]
  },
  {
   "cell_type": "code",
   "execution_count": 3,
   "id": "9f1b49fa",
   "metadata": {},
   "outputs": [
    {
     "name": "stdout",
     "output_type": "stream",
     "text": [
      "Folder '06_LULC_change' already exists at 'D:\\Akshaya\\LULC_dataset\\jupyterNB_outputs'.\n",
      "Current jupyterNB Output Directory: D:\\Akshaya\\LULC_dataset\\jupyterNB_outputs\\06_LULC_change\n"
     ]
    }
   ],
   "source": [
    "# Funtion to create a new folder at specified folder path\n",
    "def create_folder(folder_path, folder_name):\n",
    "    try:\n",
    "        # Join folder path and folder name to create the full path\n",
    "        full_path = os.path.join(folder_path, folder_name)\n",
    "        \n",
    "        # Check if the folder already exists\n",
    "        if not os.path.exists(full_path):\n",
    "            # Create the folder\n",
    "            os.makedirs(full_path)\n",
    "            print(f\"Folder '{folder_name}' created successfully at '{folder_path}'.\")\n",
    "        else:\n",
    "            print(f\"Folder '{folder_name}' already exists at '{folder_path}'.\")\n",
    "    except Exception as e:\n",
    "        print(f\"An error occurred: {str(e)}\")     \n",
    "    return full_path\n",
    "        \n",
    "# Create and print Output directory for the current jupyterNB\n",
    "current_output_dir = create_folder(folder_path=output_dir, folder_name='06_LULC_change')\n",
    "print('Current jupyterNB Output Directory:', current_output_dir)"
   ]
  },
  {
   "cell_type": "markdown",
   "id": "412ee40f",
   "metadata": {},
   "source": [
    "# Import dataset"
   ]
  },
  {
   "cell_type": "code",
   "execution_count": 4,
   "id": "5abfccef",
   "metadata": {},
   "outputs": [],
   "source": [
    "# Function to read raster dataset\n",
    "def load_raster(file_path):\n",
    "    with rasterio.open(file_path) as src:\n",
    "        data = src.read(1)  # Read the first band\n",
    "        transform = src.transform\n",
    "    return data, transform"
   ]
  },
  {
   "cell_type": "code",
   "execution_count": 5,
   "id": "db316b57",
   "metadata": {},
   "outputs": [],
   "source": [
    "# Image filepaths\n",
    "image_2019_fpath = os.path.join(output_dir, '03_CNN2019', 'lulc_2019.tif')\n",
    "image_2023_fpath = os.path.join(output_dir, '04_CNN2023new', 'lulc_2023.tif')\n",
    "\n",
    "# Load the rasters\n",
    "data_2019, transform_2019 = load_raster(image_2019_fpath)\n",
    "data_2023, transform_2023 = load_raster(image_2023_fpath)"
   ]
  },
  {
   "cell_type": "code",
   "execution_count": 6,
   "id": "514a5db4",
   "metadata": {},
   "outputs": [
    {
     "name": "stdout",
     "output_type": "stream",
     "text": [
      "| 0.00, 0.00, 77.68|\n",
      "| 0.00,-0.00, 8.90|\n",
      "| 0.00, 0.00, 1.00|\n",
      "| 0.00, 0.00, 77.68|\n",
      "| 0.00,-0.00, 8.90|\n",
      "| 0.00, 0.00, 1.00|\n"
     ]
    }
   ],
   "source": [
    "print(transform_2019)\n",
    "print(transform_2023)"
   ]
  },
  {
   "cell_type": "markdown",
   "id": "b83274bb",
   "metadata": {},
   "source": [
    "# Calculate the area for each class"
   ]
  },
  {
   "cell_type": "code",
   "execution_count": 7,
   "id": "a4cdb683",
   "metadata": {},
   "outputs": [],
   "source": [
    "# Funtion to calculate the area under each class\n",
    "def calculate_class_area(data, transform):\n",
    "    unique_classes, counts = np.unique(data, return_counts=True)\n",
    "    pixel_area = transform[0] * -transform[4]  # Area of one pixel\n",
    "    class_area = counts * pixel_area\n",
    "    return dict(zip(unique_classes, class_area))"
   ]
  },
  {
   "cell_type": "code",
   "execution_count": 8,
   "id": "b28f4dcc",
   "metadata": {},
   "outputs": [],
   "source": [
    "# Calculate areas for both years\n",
    "area_2019 = calculate_class_area(data_2019, transform_2019)\n",
    "area_2023 = calculate_class_area(data_2023, transform_2023)"
   ]
  },
  {
   "cell_type": "code",
   "execution_count": 9,
   "id": "7489db2c",
   "metadata": {},
   "outputs": [
    {
     "name": "stdout",
     "output_type": "stream",
     "text": [
      "Area under each class 2019:\n",
      "0 ---> 0.022491804959025762\n",
      "1 ---> 0.06322252780988283\n",
      "2 ---> 0.015141854456487422\n",
      "3 ---> 0.0012232863530840603\n",
      "4 ---> 0.0015977528741508375\n",
      "5 ---> 0.0501259316349628\n",
      "\n",
      "\n",
      "Area under each class 2023:\n",
      "0 ---> 0.011344316548508438\n",
      "1 ---> 0.08561888431594811\n",
      "2 ---> 0.003981849935846521\n",
      "3 ---> 0.004059593459334956\n",
      "4 ---> 0.004282059045335493\n",
      "5 ---> 0.04451645478262019\n"
     ]
    }
   ],
   "source": [
    "# Print the area under each class 2019\n",
    "print('Area under each class 2019:')\n",
    "for key, val in area_2019.items():\n",
    "    print (key, '--->', val)\n",
    "print('\\n')\n",
    "\n",
    "# Print the area under each class 2023\n",
    "print('Area under each class 2023:')\n",
    "for key, val in area_2023.items():\n",
    "    print (key, '--->', val)"
   ]
  },
  {
   "cell_type": "markdown",
   "id": "df562a91",
   "metadata": {},
   "source": [
    "# Reproject the raster Data"
   ]
  },
  {
   "cell_type": "code",
   "execution_count": 10,
   "id": "6f8f34b9",
   "metadata": {},
   "outputs": [],
   "source": [
    "# Function to reproject raster image\n",
    "def reproject_raster(src_path, dst_path, dst_crs):\n",
    "    with rasterio.open(src_path) as src:\n",
    "        transform, width, height = calculate_default_transform(\n",
    "            src.crs, dst_crs, src.width, src.height, *src.bounds)\n",
    "        kwargs = src.meta.copy()\n",
    "        kwargs.update({\n",
    "            'crs': dst_crs,\n",
    "            'transform': transform,\n",
    "            'width': width,\n",
    "            'height': height\n",
    "        })\n",
    "\n",
    "        with rasterio.open(dst_path, 'w', **kwargs) as dst:\n",
    "            for i in range(1, src.count + 1):\n",
    "                reproject(\n",
    "                    source=rasterio.band(src, i),\n",
    "                    destination=rasterio.band(dst, i),\n",
    "                    src_transform=src.transform,\n",
    "                    src_crs=src.crs,\n",
    "                    dst_transform=transform,\n",
    "                    dst_crs=dst_crs,\n",
    "                    resampling=Resampling.nearest)"
   ]
  },
  {
   "cell_type": "code",
   "execution_count": 11,
   "id": "de15a5fc",
   "metadata": {},
   "outputs": [],
   "source": [
    "# Output filepaths\n",
    "reproj2019_fpath = os.path.join(current_output_dir, '2019_lulc_32644.tif')\n",
    "reproj2023_fpath = os.path.join(current_output_dir, '2023_lulc_32644.tif')\n",
    "\n",
    "# Reproject rasters to EPSG:32644\n",
    "reproject_raster(image_2019_fpath, reproj2019_fpath, 'EPSG:32644')\n",
    "reproject_raster(image_2023_fpath, reproj2023_fpath, 'EPSG:32644')"
   ]
  },
  {
   "cell_type": "code",
   "execution_count": 12,
   "id": "67d86739",
   "metadata": {},
   "outputs": [],
   "source": [
    "# Load the reprojected rasters\n",
    "data_2019, transform_2019 = load_raster(reproj2019_fpath)\n",
    "data_2023, transform_2023 = load_raster(reproj2023_fpath)"
   ]
  },
  {
   "cell_type": "code",
   "execution_count": 13,
   "id": "9d67592d",
   "metadata": {},
   "outputs": [
    {
     "name": "stdout",
     "output_type": "stream",
     "text": [
      "| 9.91, 0.00, 134776.20|\n",
      "| 0.00,-9.91, 985080.30|\n",
      "| 0.00, 0.00, 1.00|\n",
      "| 9.91, 0.00, 134776.20|\n",
      "| 0.00,-9.91, 985080.30|\n",
      "| 0.00, 0.00, 1.00|\n"
     ]
    }
   ],
   "source": [
    "print(transform_2019)\n",
    "print(transform_2023)"
   ]
  },
  {
   "cell_type": "markdown",
   "id": "77618fb9",
   "metadata": {},
   "source": [
    "# Calculate the area for each class in reprojected image"
   ]
  },
  {
   "cell_type": "code",
   "execution_count": 14,
   "id": "82e92793",
   "metadata": {},
   "outputs": [],
   "source": [
    "# Calculate areas for both years\n",
    "area_2019 = calculate_class_area(data_2019, transform_2019)\n",
    "area_2023 = calculate_class_area(data_2023, transform_2023)"
   ]
  },
  {
   "cell_type": "code",
   "execution_count": 15,
   "id": "f9454a50",
   "metadata": {},
   "outputs": [
    {
     "name": "stdout",
     "output_type": "stream",
     "text": [
      "Area under each class 2019:\n",
      "0 ---> 305718610.3779067\n",
      "1 ---> 770955776.3892598\n",
      "2 ---> 184710140.2343346\n",
      "3 ---> 14923165.605983611\n",
      "4 ---> 19478038.451290317\n",
      "5 ---> 611390527.8042958\n",
      "\n",
      "\n",
      "Area under each class 2023:\n",
      "0 ---> 169736349.6388108\n",
      "1 ---> 1044127040.3365681\n",
      "2 ---> 48581214.47699807\n",
      "3 ---> 49508978.84841564\n",
      "4 ---> 52224640.90868074\n",
      "5 ---> 542998034.6535974\n"
     ]
    }
   ],
   "source": [
    "# Print the area under each class 2019\n",
    "print('Area under each class 2019:')\n",
    "for key, val in area_2019.items():\n",
    "    print (key, '--->', val)\n",
    "print('\\n')\n",
    "\n",
    "# Print the area under each class 2023\n",
    "print('Area under each class 2023:')\n",
    "for key, val in area_2023.items():\n",
    "    print (key, '--->', val)"
   ]
  },
  {
   "cell_type": "code",
   "execution_count": 16,
   "id": "06ba6fc0",
   "metadata": {},
   "outputs": [
    {
     "name": "stdout",
     "output_type": "stream",
     "text": [
      "Area in sqkm under each class 2019:\n",
      "0 ---> 305.71861037790666\n",
      "1 ---> 770.9557763892598\n",
      "2 ---> 184.71014023433457\n",
      "3 ---> 14.92316560598361\n",
      "4 ---> 19.478038451290317\n",
      "5 ---> 611.3905278042957\n",
      "\n",
      "\n",
      "Area in sqkm under each class 2023:\n",
      "0 ---> 169.73634963881082\n",
      "1 ---> 1044.1270403365681\n",
      "2 ---> 48.58121447699807\n",
      "3 ---> 49.508978848415644\n",
      "4 ---> 52.22464090868074\n",
      "5 ---> 542.9980346535973\n"
     ]
    }
   ],
   "source": [
    "# Convert area in m2 to km2\n",
    "area_2019_sqkm = dict(zip(list(area_2019.keys()), np.array(list(area_2019.values())) / 1000000))\n",
    "area_2023_sqkm = dict(zip(list(area_2023.keys()), np.array(list(area_2023.values())) / 1000000))\n",
    "\n",
    "# Print the area under each class 2019\n",
    "print('Area in sqkm under each class 2019:')\n",
    "for key, val in area_2019_sqkm.items():\n",
    "    print (key, '--->', val)\n",
    "print('\\n')\n",
    "\n",
    "# Print the area under each class 2023\n",
    "print('Area in sqkm under each class 2023:')\n",
    "for key, val in area_2023_sqkm.items():\n",
    "    print (key, '--->', val)"
   ]
  },
  {
   "cell_type": "code",
   "execution_count": 17,
   "id": "68d87a6d",
   "metadata": {},
   "outputs": [
    {
     "name": "stdout",
     "output_type": "stream",
     "text": [
      "1907.18 1907.18\n"
     ]
    }
   ],
   "source": [
    "print(np.round(np.array(list(area_2019_sqkm.values())).sum(),2), np.round_(np.array(list(area_2023_sqkm.values())).sum(),2))"
   ]
  },
  {
   "cell_type": "markdown",
   "id": "242f882b",
   "metadata": {},
   "source": [
    "# Detect Changes and Calculate the Area of Changes"
   ]
  },
  {
   "cell_type": "code",
   "execution_count": 18,
   "id": "deb217b6",
   "metadata": {},
   "outputs": [],
   "source": [
    "# Function to detect changes\n",
    "def detect_changes(data1, data2):\n",
    "    changes = np.where(data1 != data2, data2, -1)\n",
    "    return changes\n",
    "\n",
    "# Detect changes\n",
    "changes = detect_changes(data_2019, data_2023)"
   ]
  },
  {
   "cell_type": "code",
   "execution_count": 19,
   "id": "807e7535",
   "metadata": {},
   "outputs": [
    {
     "name": "stdout",
     "output_type": "stream",
     "text": [
      "Change area by class (sq meters):\n",
      "-1 ---> 1038304871.6365979\n",
      "0 ---> 62366841.48306177\n",
      "1 ---> 458507581.2367319\n",
      "2 ---> 18585170.91732276\n",
      "3 ---> 40773563.17754774\n",
      "4 ---> 36399170.87747548\n",
      "5 ---> 252239059.53433332\n"
     ]
    }
   ],
   "source": [
    "def calculate_change_area(changes, transform):\n",
    "    unique_classes, counts = np.unique(changes, return_counts=True)\n",
    "    pixel_area = transform[0] * -transform[4]  # Area of one pixel in square meters\n",
    "    change_area = counts * pixel_area\n",
    "    return dict(zip(unique_classes, change_area))\n",
    "\n",
    "# Calculate areas of changes\n",
    "change_area = calculate_change_area(changes, transform_2019)\n",
    "print(\"Change area by class (sq meters):\")\n",
    "for key, val in change_area.items():\n",
    "    print (key, '--->', val)"
   ]
  },
  {
   "cell_type": "code",
   "execution_count": 20,
   "id": "ea55b3eb",
   "metadata": {},
   "outputs": [
    {
     "name": "stdout",
     "output_type": "stream",
     "text": [
      "Change area by class (sq km):\n",
      "-1 ---> 1038.304871636598\n",
      "0 ---> 62.36684148306177\n",
      "1 ---> 458.5075812367319\n",
      "2 ---> 18.58517091732276\n",
      "3 ---> 40.773563177547736\n",
      "4 ---> 36.39917087747548\n",
      "5 ---> 252.2390595343333\n"
     ]
    }
   ],
   "source": [
    "# Convert area in m2 to km2\n",
    "change_area_sqkm = dict(zip(list(change_area.keys()), np.array(list(change_area.values())) / 1000000))\n",
    "\n",
    "# Print the area under each class in 'change_area_sqkm'\n",
    "print('Change area by class (sq km):')\n",
    "for key, val in change_area_sqkm.items():\n",
    "    print (key, '--->', val)"
   ]
  },
  {
   "cell_type": "code",
   "execution_count": 21,
   "id": "61e37166",
   "metadata": {},
   "outputs": [
    {
     "data": {
      "text/plain": [
       "1907.18"
      ]
     },
     "execution_count": 21,
     "metadata": {},
     "output_type": "execute_result"
    }
   ],
   "source": [
    "np.round(np.array(list(change_area_sqkm.values())).sum(), 2)"
   ]
  },
  {
   "cell_type": "code",
   "execution_count": 22,
   "id": "5fe604ac",
   "metadata": {},
   "outputs": [],
   "source": [
    "# Function to calculate class-wise changes\n",
    "def calculate_class_wise_changes(data1, data2, transform):\n",
    "    unique_classes_1 = np.unique(data1)\n",
    "    unique_classes_2 = np.unique(data2)\n",
    "    transition_matrix = np.zeros((len(unique_classes_1), len(unique_classes_2)))\n",
    "\n",
    "    for i, class_1 in enumerate(unique_classes_1):\n",
    "        for j, class_2 in enumerate(unique_classes_2):\n",
    "            change_area = np.sum((data1 == class_1) & (data2 == class_2))\n",
    "            transition_matrix[i, j] = change_area\n",
    "\n",
    "    pixel_area_sq_km = (transform[0] * -transform[4]) / 1_000_000  # Convert pixel area to square kilometers\n",
    "    transition_matrix_area = transition_matrix * pixel_area_sq_km\n",
    "\n",
    "    return transition_matrix_area, unique_classes_1, unique_classes_2\n",
    "\n",
    "# Function to calculate percentage changes\n",
    "def calculate_percentage_changes(transition_matrix_area):\n",
    "    total_area_2019 = np.sum(transition_matrix_area, axis=1, keepdims=True)\n",
    "    percentage_changes = (transition_matrix_area / total_area_2019) * 100\n",
    "    return percentage_changes"
   ]
  },
  {
   "cell_type": "code",
   "execution_count": 23,
   "id": "bd78fcf4",
   "metadata": {},
   "outputs": [],
   "source": [
    "# Calculate class-wise changes\n",
    "transition_matrix_area, unique_classes_2019, unique_classes_2023 = calculate_class_wise_changes(data_2019, data_2023, transform_2019)"
   ]
  },
  {
   "cell_type": "code",
   "execution_count": 24,
   "id": "ecb50357",
   "metadata": {},
   "outputs": [],
   "source": [
    "# Calculate percentage changes\n",
    "percentage_changes = calculate_percentage_changes(transition_matrix_area)"
   ]
  },
  {
   "cell_type": "code",
   "execution_count": 25,
   "id": "4b271e33",
   "metadata": {},
   "outputs": [
    {
     "name": "stdout",
     "output_type": "stream",
     "text": [
      "Class 0 changed to Class 0: 107.37 sq km (35.12%)\n",
      "Class 0 changed to Class 1: 131.66 sq km (43.06%)\n",
      "Class 0 changed to Class 2: 2.09 sq km (0.69%)\n",
      "Class 0 changed to Class 3: 6.46 sq km (2.11%)\n",
      "Class 0 changed to Class 4: 12.86 sq km (4.21%)\n",
      "Class 0 changed to Class 5: 45.28 sq km (14.81%)\n",
      "Class 1 changed to Class 0: 36.04 sq km (4.67%)\n",
      "Class 1 changed to Class 1: 585.62 sq km (75.96%)\n",
      "Class 1 changed to Class 2: 2.33 sq km (0.30%)\n",
      "Class 1 changed to Class 3: 14.08 sq km (1.83%)\n",
      "Class 1 changed to Class 4: 11.35 sq km (1.47%)\n",
      "Class 1 changed to Class 5: 121.54 sq km (15.76%)\n",
      "Class 2 changed to Class 0: 5.56 sq km (3.01%)\n",
      "Class 2 changed to Class 1: 53.89 sq km (29.18%)\n",
      "Class 2 changed to Class 2: 30.00 sq km (16.24%)\n",
      "Class 2 changed to Class 3: 8.68 sq km (4.70%)\n",
      "Class 2 changed to Class 4: 1.35 sq km (0.73%)\n",
      "Class 2 changed to Class 5: 85.23 sq km (46.14%)\n",
      "Class 3 changed to Class 0: 0.01 sq km (0.08%)\n",
      "Class 3 changed to Class 1: 0.24 sq km (1.59%)\n",
      "Class 3 changed to Class 2: 0.00 sq km (0.01%)\n",
      "Class 3 changed to Class 3: 8.74 sq km (58.54%)\n",
      "Class 3 changed to Class 4: 5.82 sq km (38.97%)\n",
      "Class 3 changed to Class 5: 0.12 sq km (0.82%)\n",
      "Class 4 changed to Class 0: 0.01 sq km (0.03%)\n",
      "Class 4 changed to Class 1: 0.30 sq km (1.52%)\n",
      "Class 4 changed to Class 2: 0.00 sq km (0.01%)\n",
      "Class 4 changed to Class 3: 3.28 sq km (16.85%)\n",
      "Class 4 changed to Class 4: 15.83 sq km (81.25%)\n",
      "Class 4 changed to Class 5: 0.07 sq km (0.34%)\n",
      "Class 5 changed to Class 0: 20.75 sq km (3.39%)\n",
      "Class 5 changed to Class 1: 272.42 sq km (44.56%)\n",
      "Class 5 changed to Class 2: 14.16 sq km (2.32%)\n",
      "Class 5 changed to Class 3: 8.27 sq km (1.35%)\n",
      "Class 5 changed to Class 4: 5.03 sq km (0.82%)\n",
      "Class 5 changed to Class 5: 290.76 sq km (47.56%)\n"
     ]
    }
   ],
   "source": [
    "# Display results\n",
    "for i, class_2019 in enumerate(unique_classes_2019):\n",
    "    for j, class_2023 in enumerate(unique_classes_2023):\n",
    "        area_change = transition_matrix_area[i, j]\n",
    "        percentage_change = percentage_changes[i, j]\n",
    "        if area_change > 0:\n",
    "            print(f\"Class {class_2019} changed to Class {class_2023}: {area_change:.2f} sq km ({percentage_change:.2f}%)\")"
   ]
  },
  {
   "cell_type": "code",
   "execution_count": 26,
   "id": "fb2e27b5",
   "metadata": {},
   "outputs": [
    {
     "data": {
      "image/png": "[encoded data removed]",
      "text/plain": [
       "<Figure size 2000x1000 with 4 Axes>"
      ]
     },
     "metadata": {},
     "output_type": "display_data"
    }
   ],
   "source": [
    "# Plotting\n",
    "fig, axs = plt.subplots(1, 2, figsize=(20, 10))\n",
    "\n",
    "# Heatmap for area changes\n",
    "sns.heatmap(transition_matrix_area, annot=True, fmt=\".2f\", cmap=\"YlGnBu\", xticklabels=unique_classes_2023, yticklabels=unique_classes_2019, ax=axs[0])\n",
    "axs[0].set_title(\"LULC Change Area (sq km) from 2019 to 2023\")\n",
    "axs[0].set_xlabel(\"2023 Classes\")\n",
    "axs[0].set_ylabel(\"2019 Classes\")\n",
    "\n",
    "# Heatmap for percentage changes\n",
    "sns.heatmap(percentage_changes, annot=True, fmt=\".2f\", cmap=\"YlGnBu\", xticklabels=unique_classes_2023, yticklabels=unique_classes_2019, ax=axs[1])\n",
    "axs[1].set_title(\"LULC Change Percentage from 2019 to 2023\")\n",
    "axs[1].set_xlabel(\"2023 Classes\")\n",
    "axs[1].set_ylabel(\"2019 Classes\")\n",
    "\n",
    "\n",
    "# Set global font size\n",
    "plt.rcParams.update({'font.size': 14})  # Adjust the base font size as needed\n",
    "\n",
    "# Increase font size for specific elements if needed\n",
    "axs[0].set_title(\"LULC Change Area (sq km) from 2019 to 2023\", fontsize=16)\n",
    "axs[0].set_xlabel(\"2023 Classes\", fontsize=14)\n",
    "axs[0].set_ylabel(\"2019 Classes\", fontsize=14)\n",
    "\n",
    "axs[1].set_title(\"LULC Change Percentage from 2019 to 2023\", fontsize=16)\n",
    "axs[1].set_xlabel(\"2023 Classes\", fontsize=14)\n",
    "axs[1].set_ylabel(\"2019 Classes\", fontsize=14)\n",
    "\n",
    "# Adjust font size for ticks and labels\n",
    "for ax in axs.flat:\n",
    "    ax.tick_params(labelsize=12)\n",
    "\n",
    "plt.tight_layout()\n",
    "# Save the figure\n",
    "plt.savefig(os.path.join(current_output_dir, 'LULC_Change_Analysis.png'), dpi=300)  # Save as PNG with 300 dpi\n",
    "# plt.savefig('LULC_Change_Analysis.pdf')  # Save as PDF\n",
    "plt.show()"
   ]
  },
  {
   "cell_type": "code",
   "execution_count": 27,
   "id": "41e70d16-ac76-489e-9816-61897512ace0",
   "metadata": {},
   "outputs": [
    {
     "data": {
      "text/plain": [
       "{0: 'Built Up',\n",
       " 1: 'Agricultural land',\n",
       " 2: 'Wastelands',\n",
       " 3: 'Water bodies',\n",
       " 4: 'Wetlands',\n",
       " 5: 'Forest'}"
      ]
     },
     "execution_count": 27,
     "metadata": {},
     "output_type": "execute_result"
    }
   ],
   "source": [
    "CLASSES = [0, 1, 2, 3, 4, 5]\n",
    "CLASS_NAME = ['Built Up', 'Agricultural land', 'Wastelands', 'Water bodies', 'Wetlands', 'Forest']\n",
    "classNames_dict = dict(zip(CLASSES, CLASS_NAME))\n",
    "classNames_dict"
   ]
  },
  {
   "cell_type": "code",
   "execution_count": 28,
   "id": "7a953af2-95dc-4bee-a99a-f8988e55caad",
   "metadata": {},
   "outputs": [
    {
     "data": {
      "text/html": [
       "<div>\n",
       "<style scoped>\n",
       "    .dataframe tbody tr th:only-of-type {\n",
       "        vertical-align: middle;\n",
       "    }\n",
       "\n",
       "    .dataframe tbody tr th {\n",
       "        vertical-align: top;\n",
       "    }\n",
       "\n",
       "    .dataframe thead th {\n",
       "        text-align: right;\n",
       "    }\n",
       "</style>\n",
       "<table border=\"1\" class=\"dataframe\">\n",
       "  <thead>\n",
       "    <tr style=\"text-align: right;\">\n",
       "      <th></th>\n",
       "      <th>LC_TYPE</th>\n",
       "      <th>AREA_2019_sqkm</th>\n",
       "      <th>AREA_2023_sqkm</th>\n",
       "    </tr>\n",
       "  </thead>\n",
       "  <tbody>\n",
       "    <tr>\n",
       "      <th>0</th>\n",
       "      <td>Built Up</td>\n",
       "      <td>305.718610</td>\n",
       "      <td>169.736350</td>\n",
       "    </tr>\n",
       "    <tr>\n",
       "      <th>1</th>\n",
       "      <td>Agricultural land</td>\n",
       "      <td>770.955776</td>\n",
       "      <td>1044.127040</td>\n",
       "    </tr>\n",
       "    <tr>\n",
       "      <th>2</th>\n",
       "      <td>Wastelands</td>\n",
       "      <td>184.710140</td>\n",
       "      <td>48.581214</td>\n",
       "    </tr>\n",
       "    <tr>\n",
       "      <th>3</th>\n",
       "      <td>Water bodies</td>\n",
       "      <td>14.923166</td>\n",
       "      <td>49.508979</td>\n",
       "    </tr>\n",
       "    <tr>\n",
       "      <th>4</th>\n",
       "      <td>Wetlands</td>\n",
       "      <td>19.478038</td>\n",
       "      <td>52.224641</td>\n",
       "    </tr>\n",
       "  </tbody>\n",
       "</table>\n",
       "</div>"
      ],
      "text/plain": [
       "             LC_TYPE  AREA_2019_sqkm  AREA_2023_sqkm\n",
       "0           Built Up      305.718610      169.736350\n",
       "1  Agricultural land      770.955776     1044.127040\n",
       "2         Wastelands      184.710140       48.581214\n",
       "3       Water bodies       14.923166       49.508979\n",
       "4           Wetlands       19.478038       52.224641"
      ]
     },
     "execution_count": 28,
     "metadata": {},
     "output_type": "execute_result"
    }
   ],
   "source": [
    "result_df = pd.concat([pd.Series(classNames_dict), pd.Series(area_2019_sqkm), pd.Series(area_2023_sqkm)], axis=1)\n",
    "result_df.columns = ['LC_TYPE', 'AREA_2019_sqkm', 'AREA_2023_sqkm']\n",
    "result_df.head()"
   ]
  },
  {
   "cell_type": "markdown",
   "id": "e4837bc3",
   "metadata": {},
   "source": [
    "# Carbon sequestration or emission"
   ]
  },
  {
   "cell_type": "code",
   "execution_count": 29,
   "id": "ef91529f",
   "metadata": {},
   "outputs": [],
   "source": [
    "# Define Carbon Sequestration/Emission Factors ftom IPCC - 2006\n",
    "carbon_factors = {0: 0,  # Example: Emission source, e.g., Built Up\n",
    "                  1: 1.1,    # Example: Agricultural land\n",
    "                  2: 0,    # Example: Wastelands\n",
    "                  3: 0,    # Example: Water bodies\n",
    "                  4: 0.04,    # Example: Wetlands\n",
    "                  5: 0.47,    # Example: Forest land\n",
    "                 }"
   ]
  },
  {
   "cell_type": "code",
   "execution_count": 30,
   "id": "7b418472",
   "metadata": {},
   "outputs": [],
   "source": [
    "# Calculate Carbon Sequestration or Emission\n",
    "def calculate_carbon_emission(area, carbon_factors):\n",
    "    carbon_emission = {}\n",
    "    for lulc_class, area_sq_km in area.items():\n",
    "        area_ha = area_sq_km * 100  # Convert sq km to hectares\n",
    "        carbon_emission_tons = area_ha * carbon_factors.get(lulc_class, 0)\n",
    "        carbon_emission[lulc_class] = carbon_emission_tons\n",
    "    return carbon_emission"
   ]
  },
  {
   "cell_type": "code",
   "execution_count": 31,
   "id": "64a73157",
   "metadata": {},
   "outputs": [
    {
     "name": "stdout",
     "output_type": "stream",
     "text": [
      "2019 Carbon sequestration or emission by class (tons CO2/year):\n",
      "0 ---> 0.0\n",
      "1 ---> 84805135402.81859\n",
      "2 ---> 0.0\n",
      "3 ---> 0.0\n",
      "4 ---> 77912153.80516127\n",
      "5 ---> 28735354806.801903\n",
      "2023 Carbon sequestration or emission by class (tons CO2/year)\n",
      "0 ---> 0.0\n",
      "1 ---> 114853974437.0225\n",
      "2 ---> 0.0\n",
      "3 ---> 0.0\n",
      "4 ---> 208898563.63472295\n",
      "5 ---> 25520907628.719074\n"
     ]
    }
   ],
   "source": [
    "ce_2019 = calculate_carbon_emission(area_2019, carbon_factors)\n",
    "ce_2023 = calculate_carbon_emission(area_2023, carbon_factors)\n",
    "\n",
    "# Print the carbon_emission under each class in 2019\n",
    "print('2019 Carbon sequestration or emission by class (tons CO2/year):')\n",
    "for key, val in ce_2019.items():\n",
    "    print (key, '--->', val)\n",
    "# Print the carbon_emission under each class in 2023\n",
    "print('2023 Carbon sequestration or emission by class (tons CO2/year)')\n",
    "for key, val in ce_2023.items():\n",
    "    print (key, '--->', val)"
   ]
  },
  {
   "cell_type": "code",
   "execution_count": 32,
   "id": "62aaee35-64a4-4241-882d-8d4a8f28be0f",
   "metadata": {},
   "outputs": [
    {
     "data": {
      "text/html": [
       "<div>\n",
       "<style scoped>\n",
       "    .dataframe tbody tr th:only-of-type {\n",
       "        vertical-align: middle;\n",
       "    }\n",
       "\n",
       "    .dataframe tbody tr th {\n",
       "        vertical-align: top;\n",
       "    }\n",
       "\n",
       "    .dataframe thead th {\n",
       "        text-align: right;\n",
       "    }\n",
       "</style>\n",
       "<table border=\"1\" class=\"dataframe\">\n",
       "  <thead>\n",
       "    <tr style=\"text-align: right;\">\n",
       "      <th></th>\n",
       "      <th>ce_2019</th>\n",
       "      <th>ce_2023</th>\n",
       "    </tr>\n",
       "  </thead>\n",
       "  <tbody>\n",
       "    <tr>\n",
       "      <th>0</th>\n",
       "      <td>0.000000e+00</td>\n",
       "      <td>0.000000e+00</td>\n",
       "    </tr>\n",
       "    <tr>\n",
       "      <th>1</th>\n",
       "      <td>8.480514e+10</td>\n",
       "      <td>1.148540e+11</td>\n",
       "    </tr>\n",
       "    <tr>\n",
       "      <th>2</th>\n",
       "      <td>0.000000e+00</td>\n",
       "      <td>0.000000e+00</td>\n",
       "    </tr>\n",
       "    <tr>\n",
       "      <th>3</th>\n",
       "      <td>0.000000e+00</td>\n",
       "      <td>0.000000e+00</td>\n",
       "    </tr>\n",
       "    <tr>\n",
       "      <th>4</th>\n",
       "      <td>7.791215e+07</td>\n",
       "      <td>2.088986e+08</td>\n",
       "    </tr>\n",
       "  </tbody>\n",
       "</table>\n",
       "</div>"
      ],
      "text/plain": [
       "        ce_2019       ce_2023\n",
       "0  0.000000e+00  0.000000e+00\n",
       "1  8.480514e+10  1.148540e+11\n",
       "2  0.000000e+00  0.000000e+00\n",
       "3  0.000000e+00  0.000000e+00\n",
       "4  7.791215e+07  2.088986e+08"
      ]
     },
     "execution_count": 32,
     "metadata": {},
     "output_type": "execute_result"
    }
   ],
   "source": [
    "ce_result = pd.concat([pd.Series(ce_2019), pd.Series(ce_2023)], axis=1)\n",
    "ce_result.columns = ['ce_2019', 'ce_2023']\n",
    "ce_result.head()"
   ]
  },
  {
   "cell_type": "code",
   "execution_count": 33,
   "id": "7b241235-76e9-4f76-9730-678ecfc39b17",
   "metadata": {},
   "outputs": [
    {
     "data": {
      "text/html": [
       "<div>\n",
       "<style scoped>\n",
       "    .dataframe tbody tr th:only-of-type {\n",
       "        vertical-align: middle;\n",
       "    }\n",
       "\n",
       "    .dataframe tbody tr th {\n",
       "        vertical-align: top;\n",
       "    }\n",
       "\n",
       "    .dataframe thead th {\n",
       "        text-align: right;\n",
       "    }\n",
       "</style>\n",
       "<table border=\"1\" class=\"dataframe\">\n",
       "  <thead>\n",
       "    <tr style=\"text-align: right;\">\n",
       "      <th></th>\n",
       "      <th>LC_TYPE</th>\n",
       "      <th>AREA_2019_sqkm</th>\n",
       "      <th>AREA_2023_sqkm</th>\n",
       "      <th>ce_2019</th>\n",
       "      <th>ce_2023</th>\n",
       "      <th>ce_change</th>\n",
       "      <th>percentage_change</th>\n",
       "    </tr>\n",
       "  </thead>\n",
       "  <tbody>\n",
       "    <tr>\n",
       "      <th>0</th>\n",
       "      <td>Built Up</td>\n",
       "      <td>305.718610</td>\n",
       "      <td>169.736350</td>\n",
       "      <td>0.000000e+00</td>\n",
       "      <td>0.000000e+00</td>\n",
       "      <td>0.000000e+00</td>\n",
       "      <td>NaN</td>\n",
       "    </tr>\n",
       "    <tr>\n",
       "      <th>1</th>\n",
       "      <td>Agricultural land</td>\n",
       "      <td>770.955776</td>\n",
       "      <td>1044.127040</td>\n",
       "      <td>8.480514e+10</td>\n",
       "      <td>1.148540e+11</td>\n",
       "      <td>3.004884e+10</td>\n",
       "      <td>35.432806</td>\n",
       "    </tr>\n",
       "    <tr>\n",
       "      <th>2</th>\n",
       "      <td>Wastelands</td>\n",
       "      <td>184.710140</td>\n",
       "      <td>48.581214</td>\n",
       "      <td>0.000000e+00</td>\n",
       "      <td>0.000000e+00</td>\n",
       "      <td>0.000000e+00</td>\n",
       "      <td>NaN</td>\n",
       "    </tr>\n",
       "    <tr>\n",
       "      <th>3</th>\n",
       "      <td>Water bodies</td>\n",
       "      <td>14.923166</td>\n",
       "      <td>49.508979</td>\n",
       "      <td>0.000000e+00</td>\n",
       "      <td>0.000000e+00</td>\n",
       "      <td>0.000000e+00</td>\n",
       "      <td>NaN</td>\n",
       "    </tr>\n",
       "    <tr>\n",
       "      <th>4</th>\n",
       "      <td>Wetlands</td>\n",
       "      <td>19.478038</td>\n",
       "      <td>52.224641</td>\n",
       "      <td>7.791215e+07</td>\n",
       "      <td>2.088986e+08</td>\n",
       "      <td>1.309864e+08</td>\n",
       "      <td>168.120638</td>\n",
       "    </tr>\n",
       "  </tbody>\n",
       "</table>\n",
       "</div>"
      ],
      "text/plain": [
       "             LC_TYPE  AREA_2019_sqkm  AREA_2023_sqkm       ce_2019  \\\n",
       "0           Built Up      305.718610      169.736350  0.000000e+00   \n",
       "1  Agricultural land      770.955776     1044.127040  8.480514e+10   \n",
       "2         Wastelands      184.710140       48.581214  0.000000e+00   \n",
       "3       Water bodies       14.923166       49.508979  0.000000e+00   \n",
       "4           Wetlands       19.478038       52.224641  7.791215e+07   \n",
       "\n",
       "        ce_2023     ce_change  percentage_change  \n",
       "0  0.000000e+00  0.000000e+00                NaN  \n",
       "1  1.148540e+11  3.004884e+10          35.432806  \n",
       "2  0.000000e+00  0.000000e+00                NaN  \n",
       "3  0.000000e+00  0.000000e+00                NaN  \n",
       "4  2.088986e+08  1.309864e+08         168.120638  "
      ]
     },
     "execution_count": 33,
     "metadata": {},
     "output_type": "execute_result"
    }
   ],
   "source": [
    "result_df = pd.concat([result_df, ce_result], axis=1)\n",
    "result_df['ce_change'] = result_df['ce_2023'] - result_df['ce_2019']\n",
    "result_df['percentage_change'] = (result_df['ce_change'] / result_df['ce_2019']) * 100\n",
    "result_df.head()"
   ]
  },
  {
   "cell_type": "markdown",
   "id": "86960442",
   "metadata": {},
   "source": [
    "# Export dataset"
   ]
  },
  {
   "cell_type": "code",
   "execution_count": 34,
   "id": "4e81e1ca",
   "metadata": {},
   "outputs": [],
   "source": [
    "# Save the prediction as a GeoTIFF using properties from an existing satellite image\n",
    "# Load the existing satellite image\n",
    "with rasterio.open(image_2019_fpath) as src:\n",
    "    # Copy metadata\n",
    "    meta = src.meta.copy()\n",
    "    meta.update({\n",
    "        'dtype': 'int32',  # Assuming the prediction values are integer\n",
    "        'count': 1\n",
    "    })\n",
    "\n",
    "    # Save the prediction array as a GeoTIFF\n",
    "    with rasterio.open(os.path.join(current_output_dir, 'LULC_change.tif'), 'w', **meta) as dst:\n",
    "        dst.write(changes.astype(rasterio.int32), 1)"
   ]
  },
  {
   "cell_type": "code",
   "execution_count": 35,
   "id": "421b7310",
   "metadata": {},
   "outputs": [],
   "source": [
    "result_df.to_csv(os.path.join(current_output_dir, 'result_df.csv'), index=False)"
   ]
  },
  {
   "cell_type": "code",
   "execution_count": 36,
   "id": "fe960cbc-865a-4f77-8ad8-4432bc934892",
   "metadata": {},
   "outputs": [
    {
     "data": {
      "text/plain": [
       "{0: 'Built Up',\n",
       " 1: 'Agricultural land',\n",
       " 2: 'Wastelands',\n",
       " 3: 'Water bodies',\n",
       " 4: 'Wetlands',\n",
       " 5: 'Forest'}"
      ]
     },
     "execution_count": 36,
     "metadata": {},
     "output_type": "execute_result"
    }
   ],
   "source": [
    "classNames_dict"
   ]
  },
  {
   "cell_type": "code",
   "execution_count": 37,
   "id": "05b664d0-83f9-44f1-af7a-88629a22efb5",
   "metadata": {},
   "outputs": [
    {
     "data": {
      "text/plain": [
       "0             Built Up\n",
       "1    Agricultural land\n",
       "2           Wastelands\n",
       "3         Water bodies\n",
       "4             Wetlands\n",
       "5               Forest\n",
       "Name: LC_TYPE, dtype: object"
      ]
     },
     "execution_count": 37,
     "metadata": {},
     "output_type": "execute_result"
    }
   ],
   "source": [
    "# classNames_dict[-1] = 'NO_CHANGE'\n",
    "pd.Series(classNames_dict, name='LC_TYPE').sort_index()"
   ]
  },
  {
   "cell_type": "code",
   "execution_count": 38,
   "id": "7e6f418d-7baa-417a-aed8-431e57562b7c",
   "metadata": {},
   "outputs": [
    {
     "data": {
      "text/html": [
       "<div>\n",
       "<style scoped>\n",
       "    .dataframe tbody tr th:only-of-type {\n",
       "        vertical-align: middle;\n",
       "    }\n",
       "\n",
       "    .dataframe tbody tr th {\n",
       "        vertical-align: top;\n",
       "    }\n",
       "\n",
       "    .dataframe thead th {\n",
       "        text-align: right;\n",
       "    }\n",
       "</style>\n",
       "<table border=\"1\" class=\"dataframe\">\n",
       "  <thead>\n",
       "    <tr style=\"text-align: right;\">\n",
       "      <th></th>\n",
       "      <th>AREA_CHANGED_sqkm</th>\n",
       "      <th>LC_TYPE</th>\n",
       "    </tr>\n",
       "  </thead>\n",
       "  <tbody>\n",
       "    <tr>\n",
       "      <th>0</th>\n",
       "      <td>1038.304872</td>\n",
       "      <td>NaN</td>\n",
       "    </tr>\n",
       "    <tr>\n",
       "      <th>1</th>\n",
       "      <td>62.366841</td>\n",
       "      <td>Built Up</td>\n",
       "    </tr>\n",
       "    <tr>\n",
       "      <th>2</th>\n",
       "      <td>458.507581</td>\n",
       "      <td>Agricultural land</td>\n",
       "    </tr>\n",
       "    <tr>\n",
       "      <th>3</th>\n",
       "      <td>18.585171</td>\n",
       "      <td>Wastelands</td>\n",
       "    </tr>\n",
       "    <tr>\n",
       "      <th>4</th>\n",
       "      <td>40.773563</td>\n",
       "      <td>Water bodies</td>\n",
       "    </tr>\n",
       "    <tr>\n",
       "      <th>5</th>\n",
       "      <td>36.399171</td>\n",
       "      <td>Wetlands</td>\n",
       "    </tr>\n",
       "    <tr>\n",
       "      <th>6</th>\n",
       "      <td>252.239060</td>\n",
       "      <td>Forest</td>\n",
       "    </tr>\n",
       "  </tbody>\n",
       "</table>\n",
       "</div>"
      ],
      "text/plain": [
       "   AREA_CHANGED_sqkm            LC_TYPE\n",
       "0        1038.304872                NaN\n",
       "1          62.366841           Built Up\n",
       "2         458.507581  Agricultural land\n",
       "3          18.585171         Wastelands\n",
       "4          40.773563       Water bodies\n",
       "5          36.399171           Wetlands\n",
       "6         252.239060             Forest"
      ]
     },
     "execution_count": 38,
     "metadata": {},
     "output_type": "execute_result"
    }
   ],
   "source": [
    "area_change = pd.concat([pd.DataFrame(pd.Series(change_area_sqkm, name='AREA_CHANGED_sqkm')), \n",
    "                         pd.Series(classNames_dict, name='LC_TYPE').sort_index()], axis=1).reset_index(drop=True)\n",
    "area_change"
   ]
  },
  {
   "cell_type": "code",
   "execution_count": 39,
   "id": "27083e2d-96a0-4aca-93a1-0ef8b141c6c1",
   "metadata": {},
   "outputs": [],
   "source": [
    "area_change.to_csv(os.path.join(current_output_dir, 'area_change.csv'), index=False)"
   ]
  }
 ],
 "metadata": {
  "kernelspec": {
   "display_name": "geo_env",
   "language": "python",
   "name": "geo_env"
  },
  "language_info": {
   "codemirror_mode": {
    "name": "ipython",
    "version": 3
   },
   "file_extension": ".py",
   "mimetype": "text/x-python",
   "name": "python",
   "nbconvert_exporter": "python",
   "pygments_lexer": "ipython3",
   "version": "3.12.0"
  }
 },
 "nbformat": 4,
 "nbformat_minor": 5
}
